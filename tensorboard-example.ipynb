{
 "cells": [
  {
   "cell_type": "code",
   "execution_count": null,
   "metadata": {
    "ExecuteTime": {
     "end_time": "2018-10-19T10:10:52.806375Z",
     "start_time": "2018-10-19T10:10:52.452613Z"
    }
   },
   "outputs": [],
   "source": [
    "%reload_ext autoreload\n",
    "%autoreload 2\n",
    "%matplotlib inline"
   ]
  },
  {
   "cell_type": "code",
   "execution_count": null,
   "metadata": {
    "ExecuteTime": {
     "end_time": "2018-10-19T10:10:53.103034Z",
     "start_time": "2018-10-19T10:10:52.807347Z"
    }
   },
   "outputs": [],
   "source": [
    "from fastai import *\n",
    "from fastai.collab import *\n",
    "from tensorboard_cb import *"
   ]
  },
  {
   "cell_type": "code",
   "execution_count": null,
   "metadata": {
    "ExecuteTime": {
     "end_time": "2018-10-19T10:10:53.404734Z",
     "start_time": "2018-10-19T10:10:53.104032Z"
    }
   },
   "outputs": [],
   "source": [
    "PATH = Path('../../data/ml-latest-small')"
   ]
  },
  {
   "cell_type": "code",
   "execution_count": null,
   "metadata": {
    "ExecuteTime": {
     "end_time": "2018-10-19T10:10:53.764395Z",
     "start_time": "2018-10-19T10:10:53.405724Z"
    }
   },
   "outputs": [],
   "source": [
    "ratings = pd.read_csv(PATH/'ratings.csv')\n",
    "series2cat(ratings, 'userId','movieId')"
   ]
  },
  {
   "cell_type": "code",
   "execution_count": null,
   "metadata": {
    "ExecuteTime": {
     "end_time": "2018-10-19T10:10:54.115997Z",
     "start_time": "2018-10-19T10:10:53.788333Z"
    }
   },
   "outputs": [],
   "source": [
    "learn = get_collab_learner(ratings, n_factors=50, pct_val=0.2, min_score=0., max_score=5., metrics=exp_rmspe)"
   ]
  },
  {
   "cell_type": "code",
   "execution_count": null,
   "metadata": {
    "ExecuteTime": {
     "end_time": "2018-10-19T10:14:23.257881Z",
     "start_time": "2018-10-19T10:14:22.932120Z"
    }
   },
   "outputs": [],
   "source": [
    "learn.fit(1, 1e-3, callbacks=[TensorboardLogger(learn, \"run-1\")])"
   ]
  }
 ],
 "metadata": {
  "kernelspec": {
   "display_name": "Python 3",
   "language": "python",
   "name": "python3"
  },
  "language_info": {
   "codemirror_mode": {
    "name": "ipython",
    "version": 3
   },
   "file_extension": ".py",
   "mimetype": "text/x-python",
   "name": "python",
   "nbconvert_exporter": "python",
   "pygments_lexer": "ipython3",
   "version": "3.6.5"
  }
 },
 "nbformat": 4,
 "nbformat_minor": 2
}
