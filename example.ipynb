{
  "nbformat": 4,
  "nbformat_minor": 0,
  "metadata": {
    "colab": {
      "name": "tensorboard-example.ipynb",
      "version": "0.3.2",
      "provenance": []
    },
    "kernelspec": {
      "name": "python3",
      "display_name": "Python 3"
    },
    "accelerator": "GPU"
  },
  "cells": [
    {
      "metadata": {
        "ExecuteTime": {
          "end_time": "2018-10-19T10:10:53.103034Z",
          "start_time": "2018-10-19T10:10:52.807347Z"
        },
        "id": "KFHp0ToQKugH",
        "colab_type": "code",
        "colab": {}
      },
      "cell_type": "code",
      "source": [
        "from fastai.collab import *\n",
        "from fastai_tensorboard_callback import *"
      ],
      "execution_count": 0,
      "outputs": []
    },
    {
      "metadata": {
        "ExecuteTime": {
          "end_time": "2018-10-19T10:10:53.404734Z",
          "start_time": "2018-10-19T10:10:53.104032Z"
        },
        "id": "nFdKJEuCKugN",
        "colab_type": "code",
        "colab": {}
      },
      "cell_type": "code",
      "source": [
        "path = untar_data(URLs.ML_SAMPLE)"
      ],
      "execution_count": 0,
      "outputs": []
    },
    {
      "metadata": {
        "ExecuteTime": {
          "end_time": "2018-10-19T10:10:53.764395Z",
          "start_time": "2018-10-19T10:10:53.405724Z"
        },
        "id": "5_ahF_-PKugP",
        "colab_type": "code",
        "colab": {}
      },
      "cell_type": "code",
      "source": [
        "ratings = pd.read_csv(path/'ratings.csv')\n",
        "series2cat(ratings, 'userId','movieId')\n",
        "data = CollabDataBunch.from_df(ratings, seed=42)"
      ],
      "execution_count": 0,
      "outputs": []
    },
    {
      "metadata": {
        "ExecuteTime": {
          "end_time": "2018-10-19T10:10:54.115997Z",
          "start_time": "2018-10-19T10:10:53.788333Z"
        },
        "id": "z-0bXnzRKugT",
        "colab_type": "code",
        "colab": {}
      },
      "cell_type": "code",
      "source": [
        "learn = collab_learner(data, n_factors=50, y_range = [0, 5.5])"
      ],
      "execution_count": 0,
      "outputs": []
    },
    {
      "metadata": {
        "ExecuteTime": {
          "end_time": "2018-10-19T10:14:23.257881Z",
          "start_time": "2018-10-19T10:14:22.932120Z"
        },
        "id": "r6wU_fRgKugX",
        "colab_type": "code",
        "colab": {}
      },
      "cell_type": "code",
      "source": [
        "learn.fit(1, 1e-3, callbacks=[TensorboardLogger(learn, \"run-1\")])"
      ],
      "execution_count": 0,
      "outputs": []
    }
  ]
}