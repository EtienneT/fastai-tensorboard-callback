{
 "cells": [
  {
   "cell_type": "code",
   "execution_count": null,
   "metadata": {},
   "outputs": [],
   "source": [
    "#requires Pytorch >= 0.4 for graph visualization. fastai currently uses 0.3 from conda install\n",
    "#pip install tensorflow\n",
    "#pip install git+https://github.com/lanpa/tensorboard-pytorch\n",
    "#tensorboard --logdir=\"directory of logs file. default location is PATH/logs\""
   ]
  },
  {
   "cell_type": "code",
   "execution_count": null,
   "metadata": {},
   "outputs": [],
   "source": [
    "%reload_ext autoreload\n",
    "%autoreload 2\n",
    "%matplotlib inline\n",
    "\n",
    "from fastai.learner import *\n",
    "from fastai.column_data import *\n",
    "from tensorboard_cb import *"
   ]
  },
  {
   "cell_type": "markdown",
   "metadata": {},
   "source": [
    "[http://files.grouplens.org/datasets/movielens/ml-latest-small.zip](http://files.grouplens.org/datasets/movielens/ml-latest-small.zip)"
   ]
  },
  {
   "cell_type": "code",
   "execution_count": null,
   "metadata": {},
   "outputs": [],
   "source": [
    "PATH = Path('../data/ml-latest-small')"
   ]
  },
  {
   "cell_type": "code",
   "execution_count": null,
   "metadata": {},
   "outputs": [],
   "source": [
    "ratings = pd.read_csv(PATH/'ratings.csv')\n",
    "movies = pd.read_csv(PATH/'movies.csv')\n",
    "\n",
    "val_idxs = get_cv_idxs(len(ratings))\n",
    "\n",
    "u_uniq = ratings.userId.unique()\n",
    "user2idx = {o:i for i,o in enumerate(u_uniq)}\n",
    "ratings.userId = ratings.userId.apply(lambda x: user2idx[x])\n",
    "m_uniq = ratings.movieId.unique()\n",
    "movie2idx = {o:i for i,o in enumerate(m_uniq)}\n",
    "ratings.movieId = ratings.movieId.apply(lambda x: movie2idx[x])\n",
    "\n",
    "n_users=int(ratings.userId.nunique())\n",
    "n_movies=int(ratings.movieId.nunique())\n",
    "\n",
    "\n",
    "x = ratings.drop(['rating', 'timestamp'],axis=1)\n",
    "\n",
    "y = ratings['rating'].astype(np.float32)\n",
    "\n",
    "min_rating,max_rating = ratings.rating.min(),ratings.rating.max()\n",
    "\n",
    "md = ColumnarModelData.from_data_frame(PATH, val_idxs, x, y, ['userId', 'movieId'], 64)\n"
   ]
  },
  {
   "cell_type": "code",
   "execution_count": null,
   "metadata": {},
   "outputs": [],
   "source": [
    "class EmbeddingNet(nn.Module):\n",
    "    def __init__(self, n_users, n_movies, n_factors=50, nh=10, p1=0.05, p2=0.5):\n",
    "        super().__init__()\n",
    "        self.u = nn.Embedding(n_users,n_factors)\n",
    "        self.m = nn.Embedding(n_movies, n_factors)\n",
    "        self.u.weight.data.uniform_(-0.01,0.01)\n",
    "        self.m.weight.data.uniform_(-0.01,0.01)\n",
    "        self.lin1 = nn.Linear(n_factors*2, nh)\n",
    "        self.lin2 = nn.Linear(nh,1)\n",
    "        self.drop1 = nn.Dropout(p1)\n",
    "        self.drop2 = nn.Dropout(p2)\n",
    "    def forward(self, cats, conts):\n",
    "        users,movies = cats[:,0],cats[:,1]\n",
    "        x = torch.cat([self.u(users),self.m(movies)], dim=1)\n",
    "        x = self.drop1(x)\n",
    "        x = self.lin1(x)\n",
    "        x = F.relu(x)\n",
    "        x = self.drop2(x)\n",
    "        x = self.lin2(x)\n",
    "        x = F.sigmoid(x)\n",
    "        return x * (max_rating-min_rating+1) + min_rating-0.5"
   ]
  },
  {
   "cell_type": "code",
   "execution_count": null,
   "metadata": {},
   "outputs": [],
   "source": [
    "learn = Learner(md, SingleModel(to_gpu(EmbeddingNet(n_users, n_movies))))\n",
    "learn.opt_fn = optim.Adam\n",
    "learn.crit = F.mse_loss\n",
    "learn.clip = None"
   ]
  },
  {
   "cell_type": "code",
   "execution_count": null,
   "metadata": {},
   "outputs": [],
   "source": [
    "def rmsle(y_pred, targ):\n",
    "    tmp = y_pred - targ\n",
    "    return math.sqrt((tmp**2).mean())"
   ]
  },
  {
   "cell_type": "code",
   "execution_count": null,
   "metadata": {},
   "outputs": [],
   "source": [
    "tb_logger = TensorboardLogger(learn.model, md, \"test\", metrics_names=[\"rmsle\"])"
   ]
  },
  {
   "cell_type": "code",
   "execution_count": null,
   "metadata": {
    "scrolled": true
   },
   "outputs": [],
   "source": [
    "learn.fit(1e-3, 2, cycle_len=2, cycle_mult=2, wds=1e-5, metrics=[rmsle], callbacks=[tb_logger])"
   ]
  },
  {
   "cell_type": "code",
   "execution_count": null,
   "metadata": {},
   "outputs": [],
   "source": []
  }
 ],
 "metadata": {
  "kernelspec": {
   "display_name": "Python 3",
   "language": "python",
   "name": "python3"
  },
  "language_info": {
   "codemirror_mode": {
    "name": "ipython",
    "version": 3
   },
   "file_extension": ".py",
   "mimetype": "text/x-python",
   "name": "python",
   "nbconvert_exporter": "python",
   "pygments_lexer": "ipython3",
   "version": "3.6.5"
  }
 },
 "nbformat": 4,
 "nbformat_minor": 2
}
